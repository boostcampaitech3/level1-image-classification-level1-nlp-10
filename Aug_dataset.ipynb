{
 "cells": [
  {
   "cell_type": "code",
   "execution_count": 1,
   "id": "ad96a992-2f57-48e1-bbbf-4d524bcb840c",
   "metadata": {},
   "outputs": [],
   "source": [
    "import pandas as pd\n",
    "import matplotlib.pyplot as plt\n",
    "import seaborn as sns # 0.11.2\n",
    "from PIL import Image \n",
    "import cv2 # apt-get install libgl1-mesa-glx 설치로 cv2 문제 해결\n",
    "import os\n",
    "from torchvision import transforms\n",
    "data_dir = os.listdir(\"../input/data\")"
   ]
  },
  {
   "cell_type": "code",
   "execution_count": 3,
   "id": "b74b45d1-f129-4599-8089-a5cabc900e82",
   "metadata": {},
   "outputs": [],
   "source": [
    "# Train Dataset 경로\n",
    "train_dir = '/opt/ml/input/data/train'\n",
    "\n",
    "# meta 데이터와 이미지 경로를 불러옵니다. (테스트 데이터의 )\n",
    "train_df = pd.read_csv(os.path.join(train_dir, 'train.csv'))\n",
    "image_dir = os.path.join(train_dir, 'images')\n",
    "\n",
    "image_paths = [os.path.join(image_dir, img_path) for img_path in train_df.path]"
   ]
  },
  {
   "cell_type": "markdown",
   "id": "2cec81b0-1ff4-4ec7-b98f-971c034a2fbb",
   "metadata": {},
   "source": [
    "## no_mask & incorrect\n",
    "- no_mask & Incorrect mask 증가"
   ]
  },
  {
   "cell_type": "code",
   "execution_count": null,
   "id": "a83a44b9-b7f4-4f05-9df6-80eb7ffef52f",
   "metadata": {},
   "outputs": [],
   "source": [
    "def transform(img, idx):\n",
    "    if idx == 0:\n",
    "        torchvision_transform = transforms.Compose([\n",
    "        transforms.ColorJitter(brightness=0.2, contrast=0.2, saturation=0.1, hue=0.1)])\n",
    "    elif idx == 1:\n",
    "        torchvision_transform = transforms.Compose([transforms.RandomHorizontalFlip(p = 1)])\n",
    "    else:\n",
    "        torchvision_transform = transforms.Compose([\n",
    "        transforms.ColorJitter(brightness=0.1, contrast=0.1, saturation=0.2, hue=0.2)])\n",
    "    return torchvision_transform(img)\n",
    "\n",
    "target_ls = [\"normal.jpg\", \"incorrect_mask.jpg\"]\n",
    "for path in image_paths:\n",
    "    picture_list = os.listdir(path)\n",
    "    picture_list = [fname for fname in picture_list if fname[0] != \".\"] # 임시파일 제외\n",
    "    for j in picture_list:\n",
    "        if j in target_ls:\n",
    "            target_img_path = os.path.join(path, j)\n",
    "            img = Image.open(target_img_path).convert(\"RGB\") # 이미지 불러오기\n",
    "            for k in range(3):\n",
    "                img = transform(img, k)\n",
    "                tag = j.split('.')[0]\n",
    "                print(f'{path}/{tag}{k}.jpg')\n",
    "#                 img.save(f'{path}/{tag}{k}.jpg')"
   ]
  },
  {
   "cell_type": "markdown",
   "id": "de811dc9-d717-4315-bcb7-7ec23b1b25ef",
   "metadata": {},
   "source": [
    "## age_old\n",
    "- 60세 이상 2배로 데이터 증강"
   ]
  },
  {
   "cell_type": "code",
   "execution_count": null,
   "id": "9c46699e-f19f-4cfc-8e37-c540d851cfde",
   "metadata": {},
   "outputs": [],
   "source": [
    "# Train Dataset 경로\n",
    "train_dir = '/opt/ml/input/data/train'\n",
    "\n",
    "# meta 데이터와 이미지 경로를 불러옵니다. (테스트 데이터의 )\n",
    "train_df = pd.read_csv(os.path.join(train_dir, 'train.csv'))\n",
    "image_dir = os.path.join(train_dir, 'images')\n",
    "\n",
    "age_to_old = ['004348']\n",
    "for i in age_to_old:\n",
    "    train_df.loc[train_df['id'] == i,'age'] = 60 # middle -> old\n",
    "\n",
    "# image_paths = [os.path.join(image_dir, img_path) for img_path in train_df.path]"
   ]
  },
  {
   "cell_type": "code",
   "execution_count": 26,
   "id": "545f1ab5-3d9e-4c78-b8bd-e0303d6dac55",
   "metadata": {},
   "outputs": [],
   "source": [
    "# train_df 나이 변경 (from dataset)\n",
    "age_60_ls = train_df.loc[train_df.age== 60,'path']\n",
    "image_paths = [os.path.join(image_dir, img_path) for img_path in age_60_ls]"
   ]
  },
  {
   "cell_type": "code",
   "execution_count": 49,
   "id": "e611d30c-872e-4925-8f44-616283af2ad0",
   "metadata": {},
   "outputs": [
    {
     "data": {
      "text/plain": [
       "192"
      ]
     },
     "execution_count": 49,
     "metadata": {},
     "output_type": "execute_result"
    }
   ],
   "source": [
    "len(image_paths)"
   ]
  },
  {
   "cell_type": "code",
   "execution_count": 50,
   "id": "20c57d44-b297-48a4-84ed-aee23d8d9fb4",
   "metadata": {},
   "outputs": [],
   "source": [
    "def transform(img):\n",
    "    torchvision_transform = transforms.Compose([\n",
    "        transforms.ColorJitter(brightness=0.3, contrast=0.3, saturation=0.3, hue=0.2),\n",
    "        transforms.RandomHorizontalFlip(p=1)])\n",
    "    return torchvision_transform(img)"
   ]
  },
  {
   "cell_type": "code",
   "execution_count": null,
   "id": "73e18a86-bf72-4af5-88f7-a61aa47860ae",
   "metadata": {},
   "outputs": [],
   "source": [
    "import time\n",
    "time0 = time.time()           # 코드 시작 시간: time0\n",
    "for path in image_paths:\n",
    "    picture_list = os.listdir(path)\n",
    "    picture_list = [fname for fname in picture_list if fname[0] != \".\"] # 임시파일 제외\n",
    "#     fig, ax = plt.subplots(1, len(picture_list), figsize=(20, 5))\n",
    "    for i, j in enumerate(picture_list):\n",
    "        target_img_path = os.path.join(path, j)\n",
    "        img = Image.open(target_img_path).convert(\"RGB\") # 이미지 불러오기\n",
    "        img = transform(img)\n",
    "        tag = j.split('.')[0]\n",
    "        img.save(f'{path}/add_{tag}.jpg')\n",
    "#         print(f'{path}/add_{tag}.jpg')\n",
    "#         ax[i].imshow(img)\n",
    "time.strftime('%M분 %S초 소요', time.localtime(time.time()-time0))"
   ]
  }
 ],
 "metadata": {
  "kernelspec": {
   "display_name": "Python 3 (ipykernel)",
   "language": "python",
   "name": "python3"
  },
  "language_info": {
   "codemirror_mode": {
    "name": "ipython",
    "version": 3
   },
   "file_extension": ".py",
   "mimetype": "text/x-python",
   "name": "python",
   "nbconvert_exporter": "python",
   "pygments_lexer": "ipython3",
   "version": "3.8.5"
  }
 },
 "nbformat": 4,
 "nbformat_minor": 5
}
